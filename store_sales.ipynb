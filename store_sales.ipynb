{
 "cells": [
  {
   "cell_type": "code",
   "execution_count": 1,
   "id": "07e88285",
   "metadata": {},
   "outputs": [],
   "source": [
    "# import python libraries\n",
    "\n",
    "import numpy as np \n",
    "import pandas as pd \n",
    "import matplotlib.pyplot as plt # visualizing data\n",
    "%matplotlib inline\n",
    "import seaborn as sns"
   ]
  },
  {
   "cell_type": "code",
   "execution_count": 2,
   "id": "c08c79a7",
   "metadata": {},
   "outputs": [],
   "source": [
    "df = pd.read_excel(\"D:\\Project\\Python Project\\store sales data.xlsx\")\n"
   ]
  },
  {
   "cell_type": "code",
   "execution_count": 3,
   "id": "9b1cb704",
   "metadata": {},
   "outputs": [
    {
     "data": {
      "text/plain": [
       "(31047, 21)"
      ]
     },
     "execution_count": 3,
     "metadata": {},
     "output_type": "execute_result"
    }
   ],
   "source": [
    "df.shape"
   ]
  },
  {
   "cell_type": "code",
   "execution_count": 4,
   "id": "2f759ddf",
   "metadata": {},
   "outputs": [
    {
     "data": {
      "text/html": [
       "<div>\n",
       "<style scoped>\n",
       "    .dataframe tbody tr th:only-of-type {\n",
       "        vertical-align: middle;\n",
       "    }\n",
       "\n",
       "    .dataframe tbody tr th {\n",
       "        vertical-align: top;\n",
       "    }\n",
       "\n",
       "    .dataframe thead th {\n",
       "        text-align: right;\n",
       "    }\n",
       "</style>\n",
       "<table border=\"1\" class=\"dataframe\">\n",
       "  <thead>\n",
       "    <tr style=\"text-align: right;\">\n",
       "      <th></th>\n",
       "      <th>index</th>\n",
       "      <th>Order ID</th>\n",
       "      <th>Cust ID</th>\n",
       "      <th>Gender</th>\n",
       "      <th>Age</th>\n",
       "      <th>Age group</th>\n",
       "      <th>Date</th>\n",
       "      <th>Month</th>\n",
       "      <th>Status</th>\n",
       "      <th>Channel</th>\n",
       "      <th>...</th>\n",
       "      <th>Category</th>\n",
       "      <th>Size</th>\n",
       "      <th>Qty</th>\n",
       "      <th>currency</th>\n",
       "      <th>Amount</th>\n",
       "      <th>ship-city</th>\n",
       "      <th>ship-state</th>\n",
       "      <th>ship-postal-code</th>\n",
       "      <th>ship-country</th>\n",
       "      <th>B2B</th>\n",
       "    </tr>\n",
       "  </thead>\n",
       "  <tbody>\n",
       "    <tr>\n",
       "      <th>0</th>\n",
       "      <td>1</td>\n",
       "      <td>171-1029312-3038738</td>\n",
       "      <td>1029312</td>\n",
       "      <td>Women</td>\n",
       "      <td>44.0</td>\n",
       "      <td>Adult</td>\n",
       "      <td>2022-12-04</td>\n",
       "      <td>Dec</td>\n",
       "      <td>Delivered</td>\n",
       "      <td>Myntra</td>\n",
       "      <td>...</td>\n",
       "      <td>kurta</td>\n",
       "      <td>XXL</td>\n",
       "      <td>1</td>\n",
       "      <td>INR</td>\n",
       "      <td>376.0</td>\n",
       "      <td>MOHALI</td>\n",
       "      <td>PUNJAB</td>\n",
       "      <td>140301</td>\n",
       "      <td>IN</td>\n",
       "      <td>False</td>\n",
       "    </tr>\n",
       "    <tr>\n",
       "      <th>1</th>\n",
       "      <td>2</td>\n",
       "      <td>405-2183842-2225946</td>\n",
       "      <td>2183842</td>\n",
       "      <td>Women</td>\n",
       "      <td>29.0</td>\n",
       "      <td>Teenager</td>\n",
       "      <td>2022-12-04</td>\n",
       "      <td>Dec</td>\n",
       "      <td>Delivered</td>\n",
       "      <td>Ajio</td>\n",
       "      <td>...</td>\n",
       "      <td>Set</td>\n",
       "      <td>L</td>\n",
       "      <td>1</td>\n",
       "      <td>INR</td>\n",
       "      <td>1449.0</td>\n",
       "      <td>GURUGRAM</td>\n",
       "      <td>HARYANA</td>\n",
       "      <td>122002</td>\n",
       "      <td>IN</td>\n",
       "      <td>False</td>\n",
       "    </tr>\n",
       "    <tr>\n",
       "      <th>2</th>\n",
       "      <td>3</td>\n",
       "      <td>171-1641533-8921966</td>\n",
       "      <td>1641533</td>\n",
       "      <td>Women</td>\n",
       "      <td>67.0</td>\n",
       "      <td>Senior</td>\n",
       "      <td>2022-12-04</td>\n",
       "      <td>Dec</td>\n",
       "      <td>Delivered</td>\n",
       "      <td>Myntra</td>\n",
       "      <td>...</td>\n",
       "      <td>Set</td>\n",
       "      <td>S</td>\n",
       "      <td>1</td>\n",
       "      <td>INR</td>\n",
       "      <td>453.0</td>\n",
       "      <td>KOLKATA</td>\n",
       "      <td>WEST BENGAL</td>\n",
       "      <td>700029</td>\n",
       "      <td>IN</td>\n",
       "      <td>False</td>\n",
       "    </tr>\n",
       "    <tr>\n",
       "      <th>3</th>\n",
       "      <td>4</td>\n",
       "      <td>404-7490807-6300351</td>\n",
       "      <td>7490807</td>\n",
       "      <td>Women</td>\n",
       "      <td>20.0</td>\n",
       "      <td>Teenager</td>\n",
       "      <td>2022-12-04</td>\n",
       "      <td>Dec</td>\n",
       "      <td>Delivered</td>\n",
       "      <td>Amazon</td>\n",
       "      <td>...</td>\n",
       "      <td>Set</td>\n",
       "      <td>M</td>\n",
       "      <td>1</td>\n",
       "      <td>INR</td>\n",
       "      <td>729.0</td>\n",
       "      <td>THANJAVUR</td>\n",
       "      <td>TAMIL NADU</td>\n",
       "      <td>613007</td>\n",
       "      <td>IN</td>\n",
       "      <td>False</td>\n",
       "    </tr>\n",
       "    <tr>\n",
       "      <th>4</th>\n",
       "      <td>5</td>\n",
       "      <td>403-9293516-4577154</td>\n",
       "      <td>9293516</td>\n",
       "      <td>Women</td>\n",
       "      <td>62.0</td>\n",
       "      <td>Senior</td>\n",
       "      <td>2022-12-04</td>\n",
       "      <td>Dec</td>\n",
       "      <td>Delivered</td>\n",
       "      <td>Myntra</td>\n",
       "      <td>...</td>\n",
       "      <td>kurta</td>\n",
       "      <td>XXL</td>\n",
       "      <td>1</td>\n",
       "      <td>INR</td>\n",
       "      <td>544.0</td>\n",
       "      <td>GURUGRAM</td>\n",
       "      <td>HARYANA</td>\n",
       "      <td>122001</td>\n",
       "      <td>IN</td>\n",
       "      <td>False</td>\n",
       "    </tr>\n",
       "  </tbody>\n",
       "</table>\n",
       "<p>5 rows × 21 columns</p>\n",
       "</div>"
      ],
      "text/plain": [
       "   index             Order ID  Cust ID Gender   Age Age group       Date  \\\n",
       "0      1  171-1029312-3038738  1029312  Women  44.0     Adult 2022-12-04   \n",
       "1      2  405-2183842-2225946  2183842  Women  29.0  Teenager 2022-12-04   \n",
       "2      3  171-1641533-8921966  1641533  Women  67.0    Senior 2022-12-04   \n",
       "3      4  404-7490807-6300351  7490807  Women  20.0  Teenager 2022-12-04   \n",
       "4      5  403-9293516-4577154  9293516  Women  62.0    Senior 2022-12-04   \n",
       "\n",
       "  Month     Status Channel   ... Category Size Qty currency  Amount  \\\n",
       "0   Dec  Delivered   Myntra  ...    kurta  XXL   1      INR   376.0   \n",
       "1   Dec  Delivered     Ajio  ...      Set    L   1      INR  1449.0   \n",
       "2   Dec  Delivered   Myntra  ...      Set    S   1      INR   453.0   \n",
       "3   Dec  Delivered   Amazon  ...      Set    M   1      INR   729.0   \n",
       "4   Dec  Delivered   Myntra  ...    kurta  XXL   1      INR   544.0   \n",
       "\n",
       "   ship-city   ship-state ship-postal-code  ship-country    B2B  \n",
       "0     MOHALI       PUNJAB           140301            IN  False  \n",
       "1   GURUGRAM      HARYANA           122002            IN  False  \n",
       "2    KOLKATA  WEST BENGAL           700029            IN  False  \n",
       "3  THANJAVUR   TAMIL NADU           613007            IN  False  \n",
       "4   GURUGRAM      HARYANA           122001            IN  False  \n",
       "\n",
       "[5 rows x 21 columns]"
      ]
     },
     "execution_count": 4,
     "metadata": {},
     "output_type": "execute_result"
    }
   ],
   "source": [
    "df.head()"
   ]
  },
  {
   "cell_type": "code",
   "execution_count": 5,
   "id": "3e06ae6a",
   "metadata": {},
   "outputs": [
    {
     "name": "stdout",
     "output_type": "stream",
     "text": [
      "<class 'pandas.core.frame.DataFrame'>\n",
      "RangeIndex: 31047 entries, 0 to 31046\n",
      "Data columns (total 21 columns):\n",
      " #   Column            Non-Null Count  Dtype         \n",
      "---  ------            --------------  -----         \n",
      " 0   index             31047 non-null  int64         \n",
      " 1   Order ID          31047 non-null  object        \n",
      " 2   Cust ID           31047 non-null  int64         \n",
      " 3   Gender            31047 non-null  object        \n",
      " 4   Age               31045 non-null  float64       \n",
      " 5   Age group         31047 non-null  object        \n",
      " 6   Date              31047 non-null  datetime64[ns]\n",
      " 7   Month             31047 non-null  object        \n",
      " 8   Status            31047 non-null  object        \n",
      " 9   Channel           31047 non-null  object        \n",
      " 10  SKU               31047 non-null  object        \n",
      " 11  Category          31047 non-null  object        \n",
      " 12  Size              31047 non-null  object        \n",
      " 13  Qty               31047 non-null  object        \n",
      " 14  currency          31047 non-null  object        \n",
      " 15  Amount            31042 non-null  float64       \n",
      " 16  ship-city         31047 non-null  object        \n",
      " 17  ship-state        31047 non-null  object        \n",
      " 18  ship-postal-code  31047 non-null  int64         \n",
      " 19  ship-country      31047 non-null  object        \n",
      " 20  B2B               31047 non-null  bool          \n",
      "dtypes: bool(1), datetime64[ns](1), float64(2), int64(3), object(14)\n",
      "memory usage: 4.8+ MB\n"
     ]
    }
   ],
   "source": [
    "df.info()"
   ]
  },
  {
   "cell_type": "code",
   "execution_count": 6,
   "id": "cf5f1c38",
   "metadata": {},
   "outputs": [
    {
     "data": {
      "text/plain": [
       "index               0\n",
       "Order ID            0\n",
       "Cust ID             0\n",
       "Gender              0\n",
       "Age                 2\n",
       "Age group           0\n",
       "Date                0\n",
       "Month               0\n",
       "Status              0\n",
       "Channel             0\n",
       "SKU                 0\n",
       "Category            0\n",
       "Size                0\n",
       "Qty                 0\n",
       "currency            0\n",
       "Amount              5\n",
       "ship-city           0\n",
       "ship-state          0\n",
       "ship-postal-code    0\n",
       "ship-country        0\n",
       "B2B                 0\n",
       "dtype: int64"
      ]
     },
     "execution_count": 6,
     "metadata": {},
     "output_type": "execute_result"
    }
   ],
   "source": [
    "pd.isnull(df).sum()"
   ]
  },
  {
   "cell_type": "code",
   "execution_count": 7,
   "id": "14e555f9",
   "metadata": {},
   "outputs": [],
   "source": [
    "df.dropna(inplace=True)"
   ]
  },
  {
   "cell_type": "code",
   "execution_count": 8,
   "id": "66a09884",
   "metadata": {},
   "outputs": [
    {
     "data": {
      "text/plain": [
       "(31040, 21)"
      ]
     },
     "execution_count": 8,
     "metadata": {},
     "output_type": "execute_result"
    }
   ],
   "source": [
    "df.shape"
   ]
  },
  {
   "cell_type": "code",
   "execution_count": 9,
   "id": "b0737212",
   "metadata": {},
   "outputs": [
    {
     "data": {
      "text/plain": [
       "Index(['index', 'Order ID', 'Cust ID', 'Gender', 'Age', 'Age group', 'Date',\n",
       "       'Month', 'Status', 'Channel ', 'SKU', 'Category', 'Size', 'Qty',\n",
       "       'currency', 'Amount', 'ship-city', 'ship-state', 'ship-postal-code',\n",
       "       'ship-country', 'B2B'],\n",
       "      dtype='object')"
      ]
     },
     "execution_count": 9,
     "metadata": {},
     "output_type": "execute_result"
    }
   ],
   "source": [
    "df.columns"
   ]
  },
  {
   "cell_type": "code",
   "execution_count": 10,
   "id": "608dbdad",
   "metadata": {},
   "outputs": [
    {
     "data": {
      "text/html": [
       "<div>\n",
       "<style scoped>\n",
       "    .dataframe tbody tr th:only-of-type {\n",
       "        vertical-align: middle;\n",
       "    }\n",
       "\n",
       "    .dataframe tbody tr th {\n",
       "        vertical-align: top;\n",
       "    }\n",
       "\n",
       "    .dataframe thead th {\n",
       "        text-align: right;\n",
       "    }\n",
       "</style>\n",
       "<table border=\"1\" class=\"dataframe\">\n",
       "  <thead>\n",
       "    <tr style=\"text-align: right;\">\n",
       "      <th></th>\n",
       "      <th>index</th>\n",
       "      <th>Cust ID</th>\n",
       "      <th>Age</th>\n",
       "      <th>Date</th>\n",
       "      <th>Amount</th>\n",
       "      <th>ship-postal-code</th>\n",
       "    </tr>\n",
       "  </thead>\n",
       "  <tbody>\n",
       "    <tr>\n",
       "      <th>count</th>\n",
       "      <td>31040.000000</td>\n",
       "      <td>3.104000e+04</td>\n",
       "      <td>31040.000000</td>\n",
       "      <td>31040</td>\n",
       "      <td>31040.000000</td>\n",
       "      <td>31040.000000</td>\n",
       "    </tr>\n",
       "    <tr>\n",
       "      <th>mean</th>\n",
       "      <td>15527.274742</td>\n",
       "      <td>4.936682e+06</td>\n",
       "      <td>39.497616</td>\n",
       "      <td>2022-06-15 05:54:17.628865792</td>\n",
       "      <td>682.066624</td>\n",
       "      <td>460492.505863</td>\n",
       "    </tr>\n",
       "    <tr>\n",
       "      <th>min</th>\n",
       "      <td>1.000000</td>\n",
       "      <td>8.950000e+02</td>\n",
       "      <td>18.000000</td>\n",
       "      <td>2022-01-04 00:00:00</td>\n",
       "      <td>229.000000</td>\n",
       "      <td>110001.000000</td>\n",
       "    </tr>\n",
       "    <tr>\n",
       "      <th>25%</th>\n",
       "      <td>7767.750000</td>\n",
       "      <td>2.416196e+06</td>\n",
       "      <td>28.000000</td>\n",
       "      <td>2022-03-06 00:00:00</td>\n",
       "      <td>486.000000</td>\n",
       "      <td>313001.000000</td>\n",
       "    </tr>\n",
       "    <tr>\n",
       "      <th>50%</th>\n",
       "      <td>15527.500000</td>\n",
       "      <td>4.909992e+06</td>\n",
       "      <td>37.000000</td>\n",
       "      <td>2022-06-06 00:00:00</td>\n",
       "      <td>646.000000</td>\n",
       "      <td>500028.000000</td>\n",
       "    </tr>\n",
       "    <tr>\n",
       "      <th>75%</th>\n",
       "      <td>23287.250000</td>\n",
       "      <td>7.454134e+06</td>\n",
       "      <td>47.000000</td>\n",
       "      <td>2022-09-06 00:00:00</td>\n",
       "      <td>794.000000</td>\n",
       "      <td>600040.000000</td>\n",
       "    </tr>\n",
       "    <tr>\n",
       "      <th>max</th>\n",
       "      <td>31047.000000</td>\n",
       "      <td>9.999233e+06</td>\n",
       "      <td>78.000000</td>\n",
       "      <td>2022-12-06 00:00:00</td>\n",
       "      <td>3036.000000</td>\n",
       "      <td>855117.000000</td>\n",
       "    </tr>\n",
       "    <tr>\n",
       "      <th>std</th>\n",
       "      <td>8960.992831</td>\n",
       "      <td>2.900689e+06</td>\n",
       "      <td>15.118165</td>\n",
       "      <td>NaN</td>\n",
       "      <td>268.586008</td>\n",
       "      <td>198128.043636</td>\n",
       "    </tr>\n",
       "  </tbody>\n",
       "</table>\n",
       "</div>"
      ],
      "text/plain": [
       "              index       Cust ID           Age  \\\n",
       "count  31040.000000  3.104000e+04  31040.000000   \n",
       "mean   15527.274742  4.936682e+06     39.497616   \n",
       "min        1.000000  8.950000e+02     18.000000   \n",
       "25%     7767.750000  2.416196e+06     28.000000   \n",
       "50%    15527.500000  4.909992e+06     37.000000   \n",
       "75%    23287.250000  7.454134e+06     47.000000   \n",
       "max    31047.000000  9.999233e+06     78.000000   \n",
       "std     8960.992831  2.900689e+06     15.118165   \n",
       "\n",
       "                                Date        Amount  ship-postal-code  \n",
       "count                          31040  31040.000000      31040.000000  \n",
       "mean   2022-06-15 05:54:17.628865792    682.066624     460492.505863  \n",
       "min              2022-01-04 00:00:00    229.000000     110001.000000  \n",
       "25%              2022-03-06 00:00:00    486.000000     313001.000000  \n",
       "50%              2022-06-06 00:00:00    646.000000     500028.000000  \n",
       "75%              2022-09-06 00:00:00    794.000000     600040.000000  \n",
       "max              2022-12-06 00:00:00   3036.000000     855117.000000  \n",
       "std                              NaN    268.586008     198128.043636  "
      ]
     },
     "execution_count": 10,
     "metadata": {},
     "output_type": "execute_result"
    }
   ],
   "source": [
    "df.describe()"
   ]
  },
  {
   "cell_type": "markdown",
   "id": "72c432f7",
   "metadata": {},
   "source": [
    "# Exploratory Data Analysis"
   ]
  },
  {
   "cell_type": "markdown",
   "id": "92e0fa13",
   "metadata": {},
   "source": [
    "Q1.what are diffrent order status in 2022?"
   ]
  },
  {
   "cell_type": "code",
   "execution_count": 11,
   "id": "1ca165c1",
   "metadata": {},
   "outputs": [
    {
     "name": "stdout",
     "output_type": "stream",
     "text": [
      "      Status  count\n",
      "0  Delivered  28634\n",
      "1   Returned   1045\n",
      "2  Cancelled    844\n",
      "3   Refunded    517\n"
     ]
    }
   ],
   "source": [
    "status_counts = df.groupby('Status')['Order ID'].count().nlargest().reset_index(name='count')\n",
    "print(status_counts)\n"
   ]
  },
  {
   "cell_type": "markdown",
   "id": "920cb02d",
   "metadata": {},
   "source": [
    "Q2.who purchased more- men or women in 2022?"
   ]
  },
  {
   "cell_type": "code",
   "execution_count": 12,
   "id": "9792985c",
   "metadata": {},
   "outputs": [
    {
     "name": "stdout",
     "output_type": "stream",
     "text": [
      "  Gender       total\n",
      "0    Men   7611859.0\n",
      "1  Women  13559489.0\n"
     ]
    }
   ],
   "source": [
    "sum_of_amount_by_gender = df.groupby('Gender')['Amount'].sum().reset_index(name='total')\n",
    "print(sum_of_amount_by_gender)\n"
   ]
  },
  {
   "cell_type": "markdown",
   "id": "a36247b7",
   "metadata": {},
   "source": [
    "Q3.which channel is contributing to maximum sales?"
   ]
  },
  {
   "cell_type": "code",
   "execution_count": 13,
   "id": "512e28bc",
   "metadata": {
    "scrolled": true
   },
   "outputs": [
    {
     "name": "stdout",
     "output_type": "stream",
     "text": [
      "   Channel   count\n",
      "0    Amazon  11016\n",
      "1    Myntra   7251\n",
      "2  Flipkart   6701\n",
      "3      Ajio   1931\n",
      "4     Nalli   1483\n"
     ]
    }
   ],
   "source": [
    "status_counts = df.groupby('Channel ')['Order ID'].count().nlargest().reset_index(name='count')\n",
    "print(status_counts)\n"
   ]
  },
  {
   "cell_type": "markdown",
   "id": "46271bb4",
   "metadata": {},
   "source": [
    "Q4.list top 10 states contributing to the sales?"
   ]
  },
  {
   "cell_type": "code",
   "execution_count": 14,
   "id": "7d4184ea",
   "metadata": {},
   "outputs": [
    {
     "name": "stdout",
     "output_type": "stream",
     "text": [
      "       ship-state      total\n",
      "0     MAHARASHTRA  2988303.0\n",
      "1       KARNATAKA  2645447.0\n",
      "2   UTTAR PRADESH  2104368.0\n",
      "3       TELANGANA  1711865.0\n",
      "4      TAMIL NADU  1678877.0\n",
      "5           DELHI  1248111.0\n",
      "6          KERALA  1008940.0\n",
      "7     WEST BENGAL   922444.0\n",
      "8  ANDHRA PRADESH   918499.0\n",
      "9         HARYANA   813320.0\n"
     ]
    }
   ],
   "source": [
    "top_states = df.groupby('ship-state')['Amount'].sum().nlargest(10).reset_index(name='total')\n",
    "print(top_states)\n"
   ]
  },
  {
   "cell_type": "markdown",
   "id": "7b78c8ed",
   "metadata": {},
   "source": [
    "Q5.relation between age and gender on number of orders"
   ]
  },
  {
   "cell_type": "code",
   "execution_count": 15,
   "id": "3609e697",
   "metadata": {},
   "outputs": [
    {
     "name": "stdout",
     "output_type": "stream",
     "text": [
      "  Age group   Men  Women\n",
      "0     Adult  4801  10738\n",
      "1    Senior  1836   4253\n",
      "2  Teenager  2854   6558\n"
     ]
    }
   ],
   "source": [
    "order_count = df.groupby(['Age group', 'Gender'])['Order ID'].count().reset_index()\n",
    "\n",
    "# separate male and female counts into separate columns\n",
    "order_count_pivot = order_count.pivot(index='Age group', columns='Gender', values='Order ID').reset_index()\n",
    "\n",
    "# Remove the column name 'Gender' from the header\n",
    "order_count_pivot.columns.name = None  \n",
    "print(order_count_pivot)"
   ]
  },
  {
   "cell_type": "markdown",
   "id": "e8c50cc8",
   "metadata": {},
   "source": [
    "Q6.Qhigest selling category?"
   ]
  },
  {
   "cell_type": "code",
   "execution_count": 16,
   "id": "2306bb89",
   "metadata": {},
   "outputs": [
    {
     "name": "stdout",
     "output_type": "stream",
     "text": [
      "category sales - Set\n",
      "\n",
      "  Category       total\n",
      "0      Set  10504201.0\n"
     ]
    }
   ],
   "source": [
    "category_sales = df.groupby('Category')['Amount'].sum().idxmax()\n",
    "print('category sales -',category_sales)\n",
    "\n",
    "# other method\n",
    "print()\n",
    "\n",
    "category_sales = df.groupby('Category')['Amount'].sum().nlargest(1).reset_index(name='total')\n",
    "print(category_sales)\n"
   ]
  },
  {
   "cell_type": "markdown",
   "id": "339bcff2",
   "metadata": {},
   "source": [
    "Q7.which month got the highest sales and orders?"
   ]
  },
  {
   "cell_type": "code",
   "execution_count": 17,
   "id": "ff64172d",
   "metadata": {},
   "outputs": [
    {
     "name": "stdout",
     "output_type": "stream",
     "text": [
      "Month with the highest sales: Mar\n",
      "Month with the highest orders: Mar\n"
     ]
    }
   ],
   "source": [
    "# Convert 'Qty' column to numeric type\n",
    "df['Qty'] = pd.to_numeric(df['Qty'], errors='coerce')\n",
    "\n",
    "# Group by month and sum the sales and quantity\n",
    "monthly_sales = df.groupby('Month')['Amount'].sum()\n",
    "monthly_orders = df.groupby('Month')['Qty'].sum()\n",
    "\n",
    "# Find the month with the highest sales and orders\n",
    "highest_sales_month = monthly_sales.idxmax()\n",
    "highest_orders_month = monthly_orders.idxmax()\n",
    "\n",
    "print(\"Month with the highest sales:\", highest_sales_month)\n",
    "print(\"Month with the highest orders:\", highest_orders_month)"
   ]
  },
  {
   "cell_type": "code",
   "execution_count": 18,
   "id": "52e69397",
   "metadata": {},
   "outputs": [
    {
     "name": "stdout",
     "output_type": "stream",
     "text": [
      "Month with the highest sales: Mar with amount: 1928066.0\n",
      "Month with the highest orders: Mar with quantity: 2837.0\n"
     ]
    }
   ],
   "source": [
    "# other method sales and order with months\n",
    "\n",
    "# Convert 'Qty' column to numeric\n",
    "df['Qty'] = pd.to_numeric(df['Qty'], errors='coerce')\n",
    "\n",
    "# Group by month and sum the sales and orders\n",
    "monthly_sales_orders = df.groupby('Month').agg({'Amount': 'sum', 'Qty': 'sum'})\n",
    "\n",
    "# Find the month with the highest sales\n",
    "highest_sales_month = monthly_sales_orders['Amount'].idxmax()\n",
    "highest_sales_amount = monthly_sales_orders['Amount'].max()\n",
    "\n",
    "# Find the month with the highest orders\n",
    "highest_orders_month = monthly_sales_orders['Qty'].idxmax()\n",
    "highest_orders_qty = monthly_sales_orders['Qty'].max()\n",
    "\n",
    "print(\"Month with the highest sales:\", highest_sales_month, \"with amount:\", highest_sales_amount)\n",
    "print(\"Month with the highest orders:\", highest_orders_month, \"with quantity:\", highest_orders_qty)\n"
   ]
  },
  {
   "cell_type": "markdown",
   "id": "e5ed5d02",
   "metadata": {},
   "source": [
    "Q8.compare the sales and orders using single chart"
   ]
  },
  {
   "cell_type": "code",
   "execution_count": 19,
   "id": "4dbc3bee",
   "metadata": {},
   "outputs": [
    {
     "name": "stdout",
     "output_type": "stream",
     "text": [
      "           Order_ID_Count  Amount_Sum\n",
      "Date                                 \n",
      "January              2702   1820601.0\n",
      "February             2750   1875932.0\n",
      "March                2819   1928066.0\n",
      "April                2685   1829263.0\n",
      "May                  2617   1797822.0\n",
      "June                 2597   1750966.0\n",
      "July                 2579   1772300.0\n",
      "August               2617   1808505.0\n",
      "September            2490   1688871.0\n",
      "October              2423   1665870.0\n",
      "November             2379   1612321.0\n",
      "December             2382   1620831.0\n"
     ]
    }
   ],
   "source": [
    "monthly_summary = df.groupby(df['Date'].dt.strftime('%B')).agg(\n",
    "    Order_ID_Count=('Order ID', 'count'),\n",
    "    Amount_Sum=('Amount', 'sum')\n",
    ").reset_index()\n",
    "\n",
    "#order by months\n",
    "month_order = ['January', 'February', 'March', 'April', 'May', 'June', 'July', 'August', 'September', 'October', 'November', 'December']\n",
    "\n",
    "# Reindex the dataframe by month order\n",
    "monthly_summary = monthly_summary.set_index('Date').reindex(month_order)\n",
    "\n",
    "print(monthly_summary)\n"
   ]
  },
  {
   "cell_type": "markdown",
   "id": "1a428b42",
   "metadata": {},
   "source": [
    "# Conclusion:\n"
   ]
  },
  {
   "cell_type": "markdown",
   "id": "1b97a867",
   "metadata": {},
   "source": [
    "Insights:-\n",
    "\n",
    "  1.Women are more likely to buy compared to men\n",
    "  \n",
    "  2.Maharashtra, Karnataka and Uttar Pardesh are the top 3 states\n",
    "  \n",
    "  3.Adult age group is max contributing\n",
    "  \n",
    "  4.Amazon, Flipkart and Myntra are max contribute"
   ]
  },
  {
   "cell_type": "markdown",
   "id": "d7011309",
   "metadata": {},
   "source": [
    " # Iprove store sales\n",
    " \n",
    "    "
   ]
  },
  {
   "cell_type": "markdown",
   "id": "f305cb32",
   "metadata": {},
   "source": [
    "Target Women customers of adult age group living in Maharashtra, Karnataka and Uttar Pardesh by showing ads/offers/coupons avilable on Amazon, Flipkart and Myntra."
   ]
  }
 ],
 "metadata": {
  "kernelspec": {
   "display_name": "Python 3 (ipykernel)",
   "language": "python",
   "name": "python3"
  },
  "language_info": {
   "codemirror_mode": {
    "name": "ipython",
    "version": 3
   },
   "file_extension": ".py",
   "mimetype": "text/x-python",
   "name": "python",
   "nbconvert_exporter": "python",
   "pygments_lexer": "ipython3",
   "version": "3.11.5"
  }
 },
 "nbformat": 4,
 "nbformat_minor": 5
}
